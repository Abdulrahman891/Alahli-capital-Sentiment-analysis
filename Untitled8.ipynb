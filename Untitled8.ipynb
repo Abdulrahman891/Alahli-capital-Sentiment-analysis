{
 "cells": [
  {
   "cell_type": "code",
   "execution_count": 6,
   "id": "f3e5c9b9",
   "metadata": {},
   "outputs": [
    {
     "name": "stdout",
     "output_type": "stream",
     "text": [
      "Collecting genderize\n",
      "  Downloading Genderize-0.3.1-py3-none-any.whl (5.7 kB)\n",
      "Requirement already satisfied: requests>=1.0.0 in c:\\users\\abdulrahman.m\\anaconda3\\lib\\site-packages (from genderize) (2.28.1)\n",
      "Requirement already satisfied: idna<4,>=2.5 in c:\\users\\abdulrahman.m\\anaconda3\\lib\\site-packages (from requests>=1.0.0->genderize) (3.3)\n",
      "Requirement already satisfied: certifi>=2017.4.17 in c:\\users\\abdulrahman.m\\anaconda3\\lib\\site-packages (from requests>=1.0.0->genderize) (2022.9.14)\n",
      "Requirement already satisfied: urllib3<1.27,>=1.21.1 in c:\\users\\abdulrahman.m\\anaconda3\\lib\\site-packages (from requests>=1.0.0->genderize) (1.26.11)\n",
      "Requirement already satisfied: charset-normalizer<3,>=2 in c:\\users\\abdulrahman.m\\anaconda3\\lib\\site-packages (from requests>=1.0.0->genderize) (2.0.4)\n",
      "Installing collected packages: genderize\n",
      "Successfully installed genderize-0.3.1\n",
      "Note: you may need to restart the kernel to use updated packages.\n"
     ]
    }
   ],
   "source": [
    "pip install genderize"
   ]
  },
  {
   "cell_type": "code",
   "execution_count": 7,
   "id": "e0e590a3",
   "metadata": {},
   "outputs": [
    {
     "name": "stdout",
     "output_type": "stream",
     "text": [
      "Requirement already satisfied: pandas in c:\\users\\abdulrahman.m\\anaconda3\\lib\\site-packages (1.4.4)\n",
      "Requirement already satisfied: numpy>=1.18.5 in c:\\users\\abdulrahman.m\\anaconda3\\lib\\site-packages (from pandas) (1.21.5)\n",
      "Requirement already satisfied: python-dateutil>=2.8.1 in c:\\users\\abdulrahman.m\\anaconda3\\lib\\site-packages (from pandas) (2.8.2)\n",
      "Requirement already satisfied: pytz>=2020.1 in c:\\users\\abdulrahman.m\\anaconda3\\lib\\site-packages (from pandas) (2022.1)\n",
      "Requirement already satisfied: six>=1.5 in c:\\users\\abdulrahman.m\\anaconda3\\lib\\site-packages (from python-dateutil>=2.8.1->pandas) (1.16.0)\n",
      "Note: you may need to restart the kernel to use updated packages.\n"
     ]
    }
   ],
   "source": [
    "pip install pandas"
   ]
  },
  {
   "cell_type": "code",
   "execution_count": 16,
   "id": "74feffc1",
   "metadata": {},
   "outputs": [
    {
     "name": "stdout",
     "output_type": "stream",
     "text": [
      "               Username           Date  \\\n",
      "0        Abdullah Radhi   May 14, 2023   \n",
      "1     Muhammad Mudassar   May 15, 2023   \n",
      "2               kits317  March 2, 2023   \n",
      "3         Ashraf Harthi   May 14, 2023   \n",
      "4  Mohammed Al Mourabet   May 12, 2023   \n",
      "\n",
      "                                             Reviews Sentiment     Score  \\\n",
      "0  The app no longer display notification about e...  negative  0.197899   \n",
      "1            All the graphs and indicators are gone.   neutral  0.515204   \n",
      "2  03Mar Now we are receiving updates.....all my ...  negative  0.021472   \n",
      "3  Very bad update and projection of the app Not ...  negative  0.209461   \n",
      "4                       Still not very friendly user  negative  0.144997   \n",
      "\n",
      "  Gender       Country  \n",
      "0   Male  Saudi Arabia  \n",
      "1   Male  Saudi Arabia  \n",
      "2   Male  Saudi Arabia  \n",
      "3   Male  Saudi Arabia  \n",
      "4   Male  Saudi Arabia  \n"
     ]
    },
    {
     "name": "stderr",
     "output_type": "stream",
     "text": [
      "C:\\Users\\Abdulrahman.m\\anaconda3\\lib\\site-packages\\openpyxl\\worksheet\\_read_only.py:79: UserWarning: Web Extension extension is not supported and will be removed\n",
      "  for idx, row in parser.parse():\n"
     ]
    }
   ],
   "source": [
    "import pandas as pd\n",
    "\n",
    "# Specify the path to the Excel file\n",
    "file_path = r'C:\\exc\\azura1.xlsx'\n",
    "\n",
    "# Load the Excel file into a DataFrame\n",
    "df = pd.read_excel(file_path)\n",
    "\n",
    "# Perform operations on the DataFrame\n",
    "# ...\n",
    "\n",
    "# Example: Print the first few rows of the DataFrame\n",
    "print(df.head())"
   ]
  },
  {
   "cell_type": "code",
   "execution_count": 17,
   "id": "ddb86769",
   "metadata": {},
   "outputs": [],
   "source": [
    "import pandas as pd\n",
    "from genderize import Genderize"
   ]
  },
  {
   "cell_type": "code",
   "execution_count": 19,
   "id": "5da468e8",
   "metadata": {},
   "outputs": [],
   "source": [
    "names = df['Username'].tolist()"
   ]
  },
  {
   "cell_type": "code",
   "execution_count": 20,
   "id": "d59f319e",
   "metadata": {},
   "outputs": [],
   "source": [
    "genders = Genderize().get(names)"
   ]
  },
  {
   "cell_type": "code",
   "execution_count": 21,
   "id": "5806de11",
   "metadata": {},
   "outputs": [],
   "source": [
    "genders_list = [g['gender'] for g in genders]\n",
    "df['Gender'] = genders_list"
   ]
  },
  {
   "cell_type": "code",
   "execution_count": 22,
   "id": "ed999366",
   "metadata": {},
   "outputs": [],
   "source": [
    "df.to_excel('updated_excel_file.xlsx', index=False)"
   ]
  },
  {
   "cell_type": "code",
   "execution_count": null,
   "id": "049d45b1",
   "metadata": {},
   "outputs": [],
   "source": []
  }
 ],
 "metadata": {
  "kernelspec": {
   "display_name": "Python 3 (ipykernel)",
   "language": "python",
   "name": "python3"
  },
  "language_info": {
   "codemirror_mode": {
    "name": "ipython",
    "version": 3
   },
   "file_extension": ".py",
   "mimetype": "text/x-python",
   "name": "python",
   "nbconvert_exporter": "python",
   "pygments_lexer": "ipython3",
   "version": "3.9.13"
  }
 },
 "nbformat": 4,
 "nbformat_minor": 5
}
